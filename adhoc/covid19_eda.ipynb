{
 "cells": [
  {
   "cell_type": "code",
   "execution_count": 1,
   "id": "af40b561-4dd1-4642-899b-a67aeb90a97d",
   "metadata": {},
   "outputs": [],
   "source": [
    "from functools import lru_cache\n",
    "\n",
    "import duckdb\n",
    "import requests\n",
    "import pandas as pd\n",
    "\n",
    "pd.set_option('display.max_rows', None)"
   ]
  },
  {
   "cell_type": "code",
   "execution_count": 2,
   "id": "ca0230c7-752b-4eac-a9a9-f6e91deab179",
   "metadata": {},
   "outputs": [],
   "source": [
    "con = duckdb.connect(\"/data/duckdb/github_dw.duckdb\", read_only=True)"
   ]
  },
  {
   "cell_type": "code",
   "execution_count": 3,
   "id": "41270c17-94e4-4547-a30c-9eb7fefbd2bf",
   "metadata": {},
   "outputs": [],
   "source": [
    "_ = con.execute(\n",
    "\"\"\"\n",
    "    INSTALL delta;\n",
    "    LOAD delta;\n",
    "    \n",
    "    INSTALL httpfs;\n",
    "    LOAD httpfs;\n",
    "    \n",
    "    CREATE OR REPLACE PERSISTENT SECRET docker_secret (\n",
    "    TYPE s3,\n",
    "    PROVIDER config,\n",
    "    KEY_ID 'datalake',\n",
    "    SECRET 'datalake',\n",
    "    URL_STYLE 'path',\n",
    "    USE_SSL false,\n",
    "    ENDPOINT 'minio:9000'\n",
    "    );\n",
    "\"\"\"\n",
    ")"
   ]
  },
  {
   "cell_type": "code",
   "execution_count": 4,
   "id": "e8c7a814-a740-4a6e-823d-57ccdfc53b6b",
   "metadata": {},
   "outputs": [
    {
     "data": {
      "text/plain": [
       "┌───────────────┬─────────┬──────────┬────────────┬────────────┬─────────────────────────┬─────────────────────────────────────────────────────────────────────────────────────────────────────────────────────────────────────────────────────────────────────────┐\n",
       "│     name      │  type   │ provider │ persistent │  storage   │          scope          │                                                                              secret_string                                                                              │\n",
       "│    varchar    │ varchar │ varchar  │  boolean   │  varchar   │        varchar[]        │                                                                                 varchar                                                                                 │\n",
       "├───────────────┼─────────┼──────────┼────────────┼────────────┼─────────────────────────┼─────────────────────────────────────────────────────────────────────────────────────────────────────────────────────────────────────────────────────────────────────────┤\n",
       "│ docker_secret │ s3      │ config   │ true       │ local_file │ [s3://, s3n://, s3a://] │ name=docker_secret;type=s3;provider=config;serializable=true;scope=s3://,s3n://,s3a://;endpoint=minio:9000;key_id=datalake;secret=redacted;url_style=path;use_ssl=false │\n",
       "│ local_secret  │ s3      │ config   │ true       │ local_file │ [s3://, s3n://, s3a://] │ name=local_secret;type=s3;provider=config;serializable=true;scope=s3://,s3n://,s3a://;endpoint=minio:9000;key_id=datalake;secret=redacted;url_style=path;use_ssl=false  │\n",
       "└───────────────┴─────────┴──────────┴────────────┴────────────┴─────────────────────────┴─────────────────────────────────────────────────────────────────────────────────────────────────────────────────────────────────────────────────────────────────────────┘"
      ]
     },
     "execution_count": 4,
     "metadata": {},
     "output_type": "execute_result"
    }
   ],
   "source": [
    "df = con.sql(\"FROM duckdb_secrets()\")\n",
    "df"
   ]
  },
  {
   "cell_type": "code",
   "execution_count": 5,
   "id": "dae91399-457b-458b-b85c-91c7d1aa1864",
   "metadata": {},
   "outputs": [],
   "source": [
    "_ = con.execute(\"USE main_cleansed\")"
   ]
  },
  {
   "cell_type": "code",
   "execution_count": 6,
   "id": "29795523-4c8a-4121-a239-7f0a1b00f720",
   "metadata": {},
   "outputs": [
    {
     "data": {
      "text/plain": [
       "┌─────────┬──────────────┬──────────┬───────────┬────────────────┬────────────────┬───────┬─────────┐\n",
       "│   id    │ combined_key │ latitude │ longitude │ province_state │ country_region │ fips  │ admin2  │\n",
       "│ varchar │   varchar    │  double  │  double   │    varchar     │    varchar     │ int32 │ varchar │\n",
       "├─────────┴──────────────┴──────────┴───────────┴────────────────┴────────────────┴───────┴─────────┤\n",
       "│                                              0 rows                                               │\n",
       "└───────────────────────────────────────────────────────────────────────────────────────────────────┘"
      ]
     },
     "execution_count": 6,
     "metadata": {},
     "output_type": "execute_result"
    }
   ],
   "source": [
    "con.sql(\"SELECT * FROM cleansed_location WHERE 1 = 0\")"
   ]
  },
  {
   "cell_type": "code",
   "execution_count": 16,
   "id": "1d5af07b-8550-4572-85d3-d78fd08241a4",
   "metadata": {},
   "outputs": [
    {
     "data": {
      "text/plain": [
       "┌───────────┬───────────────────────┬─────────────────────────┬─────────────────────────┬───────────────────┬────────────────────┬───────────────┬─────────────────┐\n",
       "│ count(id) │ combined_key_cnt_null │ province_state_cnt_null │ country_region_cnt_null │ latitude_cnt_null │ longitude_cnt_null │ fips_cnt_null │ admin2_cnt_null │\n",
       "│   int64   │         int64         │          int64          │          int64          │       int64       │       int64        │     int64     │      int64      │\n",
       "├───────────┼───────────────────────┼─────────────────────────┼─────────────────────────┼───────────────────┼────────────────────┼───────────────┼─────────────────┤\n",
       "│      5322 │                     0 │                       0 │                       0 │                 0 │                  0 │             0 │               0 │\n",
       "└───────────┴───────────────────────┴─────────────────────────┴─────────────────────────┴───────────────────┴────────────────────┴───────────────┴─────────────────┘"
      ]
     },
     "execution_count": 16,
     "metadata": {},
     "output_type": "execute_result"
    }
   ],
   "source": [
    "location_df = con.sql(\"\"\"\n",
    "    SELECT COUNT(id),\n",
    "        COUNT(CASE WHEN combined_key IS NULL THEN 1 ELSE NULL END) AS combined_key_cnt_null , \n",
    "        COUNT(CASE WHEN province_state IS NULL THEN 1 ELSE NULL END) AS province_state_cnt_null, \n",
    "        COUNT(CASE WHEN country_region IS NULL THEN 1 ELSE NULL END) AS country_region_cnt_null, \n",
    "        COUNT(CASE WHEN latitude IS NULL THEN 1 ELSE NULL END) AS latitude_cnt_null, \n",
    "        COUNT(CASE WHEN longitude IS NULL THEN 1 ELSE NULL END) AS longitude_cnt_null, \n",
    "        COUNT(CASE WHEN fips IS NULL THEN 1 ELSE NULL END) AS fips_cnt_null, \n",
    "        COUNT(CASE WHEN admin2 IS NULL THEN 1 ELSE NULL END) AS admin2_cnt_null\n",
    "    FROM cleansed_location LIMIT 10\n",
    "\"\"\")\n",
    "location_df"
   ]
  },
  {
   "cell_type": "code",
   "execution_count": 66,
   "id": "d2b57050-ee8e-4f01-8714-ffd1f855bb42",
   "metadata": {},
   "outputs": [
    {
     "data": {
      "text/plain": [
       "┌──────────────────────────────────┬───────────┬──────────┬───────────┬────────┬────────────────────┬────────────────┬─────────────────────┬─────────────────────┬─────────────────────┬───────┬───────┬───────┐\n",
       "│                id                │ confirmed │  deaths  │ recovered │ active │   incident_rate    │ incidence_rate │ case_fatality_ratio │     last_update     │      load_date      │ year  │ month │  day  │\n",
       "│             varchar              │  double   │  double  │  double   │ int64  │       double       │     double     │       double        │       varchar       │      timestamp      │ int64 │ int64 │ int64 │\n",
       "├──────────────────────────────────┼───────────┼──────────┼───────────┼────────┼────────────────────┼────────────────┼─────────────────────┼─────────────────────┼─────────────────────┼───────┼───────┼───────┤\n",
       "│ 6c576b5de057f82f2e0d9fc2d19ff45d │ 9963697.0 │ 130171.0 │      NULL │   NULL │  22045.63713994783 │           NULL │  1.3064528156566784 │ 2023-01-06 04:21:02 │ 2023-01-05 00:00:00 │  2023 │     1 │     5 │\n",
       "│ 59ff8b89dd72aadcf20773e2fb64527c │  401077.0 │  16234.0 │      NULL │   NULL │ 12224.919722690856 │           NULL │   4.047601832067159 │ 2023-01-06 04:21:02 │ 2023-01-05 00:00:00 │  2023 │     1 │     5 │\n",
       "│ 29d14ebb253cd881e6fb25663bac56b8 │  328071.0 │   2794.0 │      NULL │   NULL │ 13950.821240631478 │           NULL │  0.8516449183256063 │ 2023-01-06 04:21:02 │ 2023-01-05 00:00:00 │  2023 │     1 │     5 │\n",
       "│ 0d83f1219a776a48b87a94232c801159 │ 1313725.0 │  14975.0 │      NULL │   NULL │ 32690.704589849825 │           NULL │  1.1398884850330169 │ 2023-01-06 04:21:02 │ 2023-01-05 00:00:00 │  2023 │     1 │     5 │\n",
       "│ b1263b36654b453b6fc4a4bd18fac88e │ 1125192.0 │  22583.0 │      NULL │   NULL │ 11773.397937506166 │           NULL │   2.007035243762842 │ 2023-01-06 04:21:02 │ 2023-01-05 00:00:00 │  2023 │     1 │     5 │\n",
       "│ 3af92943fd1b2b7d6087a8629aefb0e2 │ 2909726.0 │  41555.0 │      NULL │   NULL │  25574.97473684081 │           NULL │  1.4281413438928614 │ 2023-01-06 04:21:02 │ 2023-01-05 00:00:00 │  2023 │     1 │     5 │\n",
       "│ eb39dd3915b20ac53b8b38bb02d597aa │ 6327470.0 │ 177572.0 │      NULL │   NULL │ 13779.618998642589 │           NULL │    2.80636652564137 │ 2023-01-06 04:21:02 │ 2023-01-05 00:00:00 │  2023 │     1 │     5 │\n",
       "│ d9719333b81b9070f8640f4b3806f655 │ 1292778.0 │  38116.0 │      NULL │   NULL │ 18605.285067378383 │           NULL │  2.9483793814560584 │ 2023-01-06 04:21:02 │ 2023-01-05 00:00:00 │  2023 │     1 │     5 │\n",
       "│ 49172eee2af16b198e42d299a983055f │   22006.0 │    395.0 │      NULL │   NULL │  105.2753544204885 │           NULL │   1.794965009542852 │ 2023-01-06 04:21:02 │ 2023-01-05 00:00:00 │  2023 │     1 │     5 │\n",
       "│ fb5ea6acb10e6909f1eb9b1869381c8f │   53914.0 │    288.0 │      NULL │   NULL │ 10340.931976638249 │           NULL │  0.5341840709277739 │ 2023-01-06 04:21:02 │ 2023-01-05 00:00:00 │  2023 │     1 │     5 │\n",
       "├──────────────────────────────────┴───────────┴──────────┴───────────┴────────┴────────────────────┴────────────────┴─────────────────────┴─────────────────────┴─────────────────────┴───────┴───────┴───────┤\n",
       "│ 10 rows                                                                                                                                                                                           13 columns │\n",
       "└──────────────────────────────────────────────────────────────────────────────────────────────────────────────────────────────────────────────────────────────────────────────────────────────────────────────┘"
      ]
     },
     "execution_count": 66,
     "metadata": {},
     "output_type": "execute_result"
    }
   ],
   "source": [
    "con.sql(\"SELECT * FROM covid19_raw.raw_github_csse_daily LIMIT 10\")"
   ]
  },
  {
   "cell_type": "code",
   "execution_count": 19,
   "id": "4b914185-94f0-4068-8b93-f2a4ccf35c6b",
   "metadata": {},
   "outputs": [
    {
     "data": {
      "text/plain": [
       "┌──────────────────┬──────────────────┐\n",
       "│ min(last_update) │ max(last_update) │\n",
       "│     varchar      │     varchar      │\n",
       "├──────────────────┼──────────────────┤\n",
       "│ 1/22/2020 17:00  │ 4/6/20 9:37      │\n",
       "└──────────────────┴──────────────────┘"
      ]
     },
     "execution_count": 19,
     "metadata": {},
     "output_type": "execute_result"
    }
   ],
   "source": [
    "con.sql(\"SELECT MIN(last_update), MAX(last_update) FROM covid19_raw.raw_github_csse_daily\")"
   ]
  },
  {
   "cell_type": "code",
   "execution_count": 17,
   "id": "930de119-8581-4768-937b-c701ecab4f4f",
   "metadata": {
    "scrolled": true
   },
   "outputs": [
    {
     "data": {
      "text/plain": [
       "┌──────────────────────────────────┬──────────────────────────────┬─────────────┬──────────────┬────────────────┬────────────────┬───────┬──────────────┐\n",
       "│                id                │         combined_key         │  latitude   │  longitude   │ province_state │ country_region │ fips  │    admin2    │\n",
       "│             varchar              │           varchar            │   double    │    double    │    varchar     │    varchar     │ int32 │   varchar    │\n",
       "├──────────────────────────────────┼──────────────────────────────┼─────────────┼──────────────┼────────────────┼────────────────┼───────┼──────────────┤\n",
       "│ 3650296a82594e3c2c3a77bf8fee7570 │ Sichuan, China               │     30.6171 │     102.7103 │ Sichuan        │ China          │ -9999 │ Unassigned   │\n",
       "│ 272c321f2dac912a6dbe1d47234120fd │ Sonora, Mexico               │     29.2972 │    -110.3309 │ Sonora         │ Mexico         │ -9999 │ Unassigned   │\n",
       "│ 8c0b1ac6cc1acc0bb413aed5d724394d │ Thailand                     │   15.870032 │   100.992541 │ Unassigned     │ Thailand       │ -9999 │ Unassigned   │\n",
       "│ 05c147619125d4d1ae496723fbd0e318 │ Conecuh, Alabama, US         │ 31.43401703 │ -86.99320044 │ Alabama        │ US             │  1035 │ Conecuh      │\n",
       "│ 9ba04197c45ded1daba08648fadae46d │ Contra Costa, California, US │ 37.91923498 │ -121.9289527 │ California     │ US             │  6013 │ Contra Costa │\n",
       "│ 0af75daf20e5e44fec6afc4034378aac │ Leon, Florida, US            │ 30.45955727 │ -84.27491114 │ Florida        │ US             │ 12073 │ Leon         │\n",
       "│ 891b8a70d5372bc11020ee89ba9b4c25 │ Jackson, Illinois, US        │ 37.78595185 │ -89.38232563 │ Illinois       │ US             │ 17077 │ Jackson      │\n",
       "│ d4440b8b9c3311f1b0f91261a7101085 │ Clinton, Indiana, US         │ 40.30319754 │ -86.47277257 │ Indiana        │ US             │ 18023 │ Clinton      │\n",
       "│ d69991e3f743ca8c95542cce1ffd5446 │ Fountain, Indiana, US        │ 40.12361933 │ -87.24217689 │ Indiana        │ US             │ 18045 │ Fountain     │\n",
       "│ b5acaf83aff22e589f7bf91bd7fcc1d4 │ Kandiyohi, Minnesota, US     │  45.1526059 │ -95.00586446 │ Minnesota      │ US             │ 27067 │ Kandiyohi    │\n",
       "├──────────────────────────────────┴──────────────────────────────┴─────────────┴──────────────┴────────────────┴────────────────┴───────┴──────────────┤\n",
       "│ 10 rows                                                                                                                                     8 columns │\n",
       "└───────────────────────────────────────────────────────────────────────────────────────────────────────────────────────────────────────────────────────┘"
      ]
     },
     "execution_count": 17,
     "metadata": {},
     "output_type": "execute_result"
    }
   ],
   "source": [
    "con.sql(\"SELECT * FROM cleansed_location LIMIT 10\")"
   ]
  },
  {
   "cell_type": "code",
   "execution_count": 17,
   "id": "4a6fff85-8043-468a-8737-c40247c30066",
   "metadata": {},
   "outputs": [
    {
     "data": {
      "text/plain": [
       "┌───────┬──────────┐\n",
       "│  len  │ count(1) │\n",
       "│ int64 │  int64   │\n",
       "├───────┼──────────┤\n",
       "│    19 │  4119846 │\n",
       "│    16 │       37 │\n",
       "│    15 │      178 │\n",
       "│    14 │       73 │\n",
       "│    13 │    14494 │\n",
       "│    12 │     8201 │\n",
       "│    11 │       68 │\n",
       "└───────┴──────────┘"
      ]
     },
     "execution_count": 17,
     "metadata": {},
     "output_type": "execute_result"
    }
   ],
   "source": [
    "con.sql(\"\"\"\n",
    "    WITH t1 AS (\n",
    "        SELECT LENGTH(last_update) AS len\n",
    "        FROM covid19_raw.raw_github_csse_daily\n",
    "    )\n",
    "    SELECT len, COUNT(1)\n",
    "    FROM t1\n",
    "    GROUP BY len\n",
    "    ORDER BY len DESC\n",
    "    ;\n",
    "\"\"\")"
   ]
  },
  {
   "cell_type": "code",
   "execution_count": 20,
   "id": "717411e7-86a1-44fb-bd32-b14f31f878c1",
   "metadata": {
    "scrolled": true
   },
   "outputs": [
    {
     "data": {
      "text/plain": [
       "┌─────────────────┬──────────────────────────────────┬───────────┬──────────┬───────────┬────────┬────────────────────┬────────────────┬─────────────────────┬─────────────────────┬─────────────────────┬───────┬───────┬───────┐\n",
       "│ len_last_update │                id                │ confirmed │  deaths  │ recovered │ active │   incident_rate    │ incidence_rate │ case_fatality_ratio │     last_update     │      load_date      │ year  │ month │  day  │\n",
       "│      int64      │             varchar              │  double   │  double  │  double   │ int64  │       double       │     double     │       double        │       varchar       │      timestamp      │ int64 │ int64 │ int64 │\n",
       "├─────────────────┼──────────────────────────────────┼───────────┼──────────┼───────────┼────────┼────────────────────┼────────────────┼─────────────────────┼─────────────────────┼─────────────────────┼───────┼───────┼───────┤\n",
       "│              19 │ 6c576b5de057f82f2e0d9fc2d19ff45d │ 9963697.0 │ 130171.0 │      NULL │   NULL │  22045.63713994783 │           NULL │  1.3064528156566784 │ 2023-01-06 04:21:02 │ 2023-01-05 00:00:00 │  2023 │     1 │     5 │\n",
       "│              19 │ 59ff8b89dd72aadcf20773e2fb64527c │  401077.0 │  16234.0 │      NULL │   NULL │ 12224.919722690856 │           NULL │   4.047601832067159 │ 2023-01-06 04:21:02 │ 2023-01-05 00:00:00 │  2023 │     1 │     5 │\n",
       "│              19 │ 29d14ebb253cd881e6fb25663bac56b8 │  328071.0 │   2794.0 │      NULL │   NULL │ 13950.821240631478 │           NULL │  0.8516449183256063 │ 2023-01-06 04:21:02 │ 2023-01-05 00:00:00 │  2023 │     1 │     5 │\n",
       "│              19 │ 0d83f1219a776a48b87a94232c801159 │ 1313725.0 │  14975.0 │      NULL │   NULL │ 32690.704589849825 │           NULL │  1.1398884850330169 │ 2023-01-06 04:21:02 │ 2023-01-05 00:00:00 │  2023 │     1 │     5 │\n",
       "│              19 │ b1263b36654b453b6fc4a4bd18fac88e │ 1125192.0 │  22583.0 │      NULL │   NULL │ 11773.397937506166 │           NULL │   2.007035243762842 │ 2023-01-06 04:21:02 │ 2023-01-05 00:00:00 │  2023 │     1 │     5 │\n",
       "│              19 │ 3af92943fd1b2b7d6087a8629aefb0e2 │ 2909726.0 │  41555.0 │      NULL │   NULL │  25574.97473684081 │           NULL │  1.4281413438928614 │ 2023-01-06 04:21:02 │ 2023-01-05 00:00:00 │  2023 │     1 │     5 │\n",
       "│              19 │ eb39dd3915b20ac53b8b38bb02d597aa │ 6327470.0 │ 177572.0 │      NULL │   NULL │ 13779.618998642589 │           NULL │    2.80636652564137 │ 2023-01-06 04:21:02 │ 2023-01-05 00:00:00 │  2023 │     1 │     5 │\n",
       "│              19 │ d9719333b81b9070f8640f4b3806f655 │ 1292778.0 │  38116.0 │      NULL │   NULL │ 18605.285067378383 │           NULL │  2.9483793814560584 │ 2023-01-06 04:21:02 │ 2023-01-05 00:00:00 │  2023 │     1 │     5 │\n",
       "│              19 │ 49172eee2af16b198e42d299a983055f │   22006.0 │    395.0 │      NULL │   NULL │  105.2753544204885 │           NULL │   1.794965009542852 │ 2023-01-06 04:21:02 │ 2023-01-05 00:00:00 │  2023 │     1 │     5 │\n",
       "│              19 │ fb5ea6acb10e6909f1eb9b1869381c8f │   53914.0 │    288.0 │      NULL │   NULL │ 10340.931976638249 │           NULL │  0.5341840709277739 │ 2023-01-06 04:21:02 │ 2023-01-05 00:00:00 │  2023 │     1 │     5 │\n",
       "├─────────────────┴──────────────────────────────────┴───────────┴──────────┴───────────┴────────┴────────────────────┴────────────────┴─────────────────────┴─────────────────────┴─────────────────────┴───────┴───────┴───────┤\n",
       "│ 10 rows                                                                                                                                                                                                             14 columns │\n",
       "└────────────────────────────────────────────────────────────────────────────────────────────────────────────────────────────────────────────────────────────────────────────────────────────────────────────────────────────────┘"
      ]
     },
     "execution_count": 20,
     "metadata": {},
     "output_type": "execute_result"
    }
   ],
   "source": [
    "con.sql(\"\"\"\n",
    "    WITH t1 AS (\n",
    "        SELECT LENGTH(last_update) AS len_last_update, *\n",
    "        FROM covid19_raw.raw_github_csse_daily\n",
    "    )\n",
    "    SELECT *\n",
    "    FROM t1\n",
    "    WHERE len_last_update = 19\n",
    "    LIMIT 10;\n",
    "\n",
    "    -- Example Value: 2023-01-06 04:21:02\n",
    "\"\"\")"
   ]
  },
  {
   "cell_type": "code",
   "execution_count": 21,
   "id": "115cbcf9-60d6-4fb1-8792-d145eaf7e434",
   "metadata": {},
   "outputs": [
    {
     "data": {
      "text/plain": [
       "┌─────────────────┬──────────────────────────────────┬───────────┬─────────┬───────────┬────────┬────────────────────┬────────────────┬─────────────────────┬──────────────────┬─────────────────────┬───────┬───────┬───────┐\n",
       "│ len_last_update │                id                │ confirmed │ deaths  │ recovered │ active │   incident_rate    │ incidence_rate │ case_fatality_ratio │   last_update    │      load_date      │ year  │ month │  day  │\n",
       "│      int64      │             varchar              │  double   │ double  │  double   │ int64  │       double       │     double     │       double        │     varchar      │      timestamp      │ int64 │ int64 │ int64 │\n",
       "├─────────────────┼──────────────────────────────────┼───────────┼─────────┼───────────┼────────┼────────────────────┼────────────────┼─────────────────────┼──────────────────┼─────────────────────┼───────┼───────┼───────┤\n",
       "│              16 │ 039b389ba69595065fb4c9e39bbc5fee │  885616.0 │  7138.0 │  876140.0 │   2338 │ 1642.9689314733862 │           NULL │  0.8059926649925024 │ 2021-01-15 17:22 │ 2021-01-14 00:00:00 │  2021 │     1 │    14 │\n",
       "│              16 │ 3b533f20ba1f524b64f25e681a3b3d98 │   16798.0 │    56.0 │   16674.0 │     68 │ 1069.6242752114351 │           NULL │  0.3333730205976902 │ 2021-01-15 17:22 │ 2021-01-14 00:00:00 │  2021 │     1 │    14 │\n",
       "│              16 │ fdb067dfeb3e574a57471b082af78e9f │   56751.0 │   963.0 │   54977.0 │    811 │  761.5585440330759 │           NULL │    1.69688639847756 │ 2021-01-15 17:22 │ 2021-01-14 00:00:00 │  2021 │     1 │    14 │\n",
       "│              16 │ 07ba2b61e89c5e1194dae77a02ab599c │  332763.0 │  1896.0 │  328832.0 │   2035 │  717.8371784101823 │           NULL │  0.5697748848279406 │ 2021-01-15 17:22 │ 2021-01-14 00:00:00 │  2021 │     1 │    14 │\n",
       "│              16 │ e72ece2ddb4362f979adb28b6eb12855 │    4976.0 │    62.0 │    4891.0 │     23 │  1193.182363153301 │           NULL │  1.2459807073954985 │ 2021-01-15 17:22 │ 2021-01-14 00:00:00 │  2021 │     1 │    14 │\n",
       "│              16 │ b3447206c53cf1420692dd568b726404 │   20438.0 │   330.0 │   19835.0 │    273 │ 1764.2189330264926 │           NULL │  1.6146393972012918 │ 2021-01-15 17:22 │ 2021-01-14 00:00:00 │  2021 │     1 │    14 │\n",
       "│              16 │ 27740dca75a15f601c478478b5e8dd48 │  254314.0 │  4357.0 │  242901.0 │   7056 │  398.1594616479021 │           NULL │   1.713236392805744 │ 2021-01-15 17:22 │ 2021-01-14 00:00:00 │  2021 │     1 │    14 │\n",
       "│              16 │ d1f678662cb629ff80f23ec1797f121f │ 1981623.0 │ 50291.0 │ 1877588.0 │  53744 │  1609.188763974742 │           NULL │   2.537869211247548 │ 2021-01-15 17:22 │ 2021-01-14 00:00:00 │  2021 │     1 │    14 │\n",
       "│              16 │ 313543d89a785c715bef443dcaca30ef │  314372.0 │  2744.0 │  305953.0 │   5675 │ 387.95701324930735 │           NULL │  0.8728512717417581 │ 2021-01-15 17:22 │ 2021-01-14 00:00:00 │  2021 │     1 │    14 │\n",
       "│              16 │ 20e4fc33017e9f4aa620df0066cecf51 │   94324.0 │  1596.0 │   90218.0 │   2510 │  838.3716157469946 │           NULL │  1.6920402018574277 │ 2021-01-15 17:22 │ 2021-01-14 00:00:00 │  2021 │     1 │    14 │\n",
       "├─────────────────┴──────────────────────────────────┴───────────┴─────────┴───────────┴────────┴────────────────────┴────────────────┴─────────────────────┴──────────────────┴─────────────────────┴───────┴───────┴───────┤\n",
       "│ 10 rows                                                                                                                                                                                                         14 columns │\n",
       "└────────────────────────────────────────────────────────────────────────────────────────────────────────────────────────────────────────────────────────────────────────────────────────────────────────────────────────────┘"
      ]
     },
     "execution_count": 21,
     "metadata": {},
     "output_type": "execute_result"
    }
   ],
   "source": [
    "con.sql(\"\"\"\n",
    "    WITH t1 AS (\n",
    "        SELECT LENGTH(last_update) AS len_last_update, *\n",
    "        FROM covid19_raw.raw_github_csse_daily\n",
    "    )\n",
    "    SELECT *\n",
    "    FROM t1\n",
    "    WHERE len_last_update = 16\n",
    "    LIMIT 10;\n",
    "\n",
    "    -- Example Value: 2021-01-15 17:22\n",
    "\"\"\")"
   ]
  },
  {
   "cell_type": "code",
   "execution_count": 22,
   "id": "2e97a5eb-9eae-4549-ae6b-1c9be8c9c3e2",
   "metadata": {},
   "outputs": [
    {
     "data": {
      "text/plain": [
       "┌─────────────────┬──────────────────────────────────┬───────────┬────────┬───────────┬────────┬───────────────┬────────────────┬─────────────────────┬─────────────────┬─────────────────────┬───────┬───────┬───────┐\n",
       "│ len_last_update │                id                │ confirmed │ deaths │ recovered │ active │ incident_rate │ incidence_rate │ case_fatality_ratio │   last_update   │      load_date      │ year  │ month │  day  │\n",
       "│      int64      │             varchar              │  double   │ double │  double   │ int64  │    double     │     double     │       double        │     varchar     │      timestamp      │ int64 │ int64 │ int64 │\n",
       "├─────────────────┼──────────────────────────────────┼───────────┼────────┼───────────┼────────┼───────────────┼────────────────┼─────────────────────┼─────────────────┼─────────────────────┼───────┼───────┼───────┤\n",
       "│              15 │ 755f36722d7e163e6ce4438aec2f95d9 │       1.0 │   NULL │      NULL │   NULL │          NULL │           NULL │                NULL │ 1/22/2020 17:00 │ 2020-01-22 00:00:00 │  2020 │     1 │    22 │\n",
       "│              15 │ 36db611be2cfcbbb24448438006a47ea │      NULL │   NULL │      NULL │   NULL │          NULL │           NULL │                NULL │ 1/22/2020 17:00 │ 2020-01-22 00:00:00 │  2020 │     1 │    22 │\n",
       "│              15 │ ea71f4ba8d19e33fb0f7f9d946c3693c │       0.0 │    0.0 │       0.0 │   NULL │          NULL │           NULL │                NULL │ 1/22/2020 17:00 │ 2020-01-22 00:00:00 │  2020 │     1 │    22 │\n",
       "│              15 │ 2fe4a3261959511b989ae30b2ee0e141 │       0.0 │    0.0 │       0.0 │   NULL │          NULL │           NULL │                NULL │ 1/22/2020 17:00 │ 2020-01-22 00:00:00 │  2020 │     1 │    22 │\n",
       "│              15 │ cb70bf82342ca45420b9f7b38c3c66eb │       0.0 │    0.0 │       0.0 │   NULL │          NULL │           NULL │                NULL │ 1/22/2020 17:00 │ 2020-01-22 00:00:00 │  2020 │     1 │    22 │\n",
       "│              15 │ ce9ceee38eee483b305304870df47c6d │       0.0 │    0.0 │       0.0 │   NULL │          NULL │           NULL │                NULL │ 1/22/2020 17:00 │ 2020-01-22 00:00:00 │  2020 │     1 │    22 │\n",
       "│              15 │ b74271b5b6cab6874c0f6ce0158d7d00 │       0.0 │    0.0 │       0.0 │   NULL │          NULL │           NULL │                NULL │ 1/22/2020 17:00 │ 2020-01-22 00:00:00 │  2020 │     1 │    22 │\n",
       "│              15 │ 573c7dedac65bda4b433ea13d1319398 │       4.0 │   NULL │      NULL │   NULL │          NULL │           NULL │                NULL │ 1/22/2020 17:00 │ 2020-01-22 00:00:00 │  2020 │     1 │    22 │\n",
       "│              15 │ d4a236cf9d0080a0ac751b5596c91b51 │     444.0 │   17.0 │      28.0 │   NULL │          NULL │           NULL │                NULL │ 1/22/2020 17:00 │ 2020-01-22 00:00:00 │  2020 │     1 │    22 │\n",
       "│              15 │ da5bc9950def2b39bb4bc56e720fac65 │       2.0 │   NULL │      NULL │   NULL │          NULL │           NULL │                NULL │ 1/22/2020 17:00 │ 2020-01-22 00:00:00 │  2020 │     1 │    22 │\n",
       "├─────────────────┴──────────────────────────────────┴───────────┴────────┴───────────┴────────┴───────────────┴────────────────┴─────────────────────┴─────────────────┴─────────────────────┴───────┴───────┴───────┤\n",
       "│ 10 rows                                                                                                                                                                                                  14 columns │\n",
       "└─────────────────────────────────────────────────────────────────────────────────────────────────────────────────────────────────────────────────────────────────────────────────────────────────────────────────────┘"
      ]
     },
     "execution_count": 22,
     "metadata": {},
     "output_type": "execute_result"
    }
   ],
   "source": [
    "con.sql(\"\"\"\n",
    "    WITH t1 AS (\n",
    "        SELECT LENGTH(last_update) AS len_last_update, *\n",
    "        FROM covid19_raw.raw_github_csse_daily\n",
    "    )\n",
    "    SELECT *\n",
    "    FROM t1\n",
    "    WHERE len_last_update = 15\n",
    "    LIMIT 10;\n",
    "\n",
    "    -- Example Value: 1/22/2020 17:00\n",
    "\"\"\")"
   ]
  },
  {
   "cell_type": "code",
   "execution_count": 23,
   "id": "c9075889-91cd-4495-89b0-1444c03be0ab",
   "metadata": {},
   "outputs": [
    {
     "data": {
      "text/plain": [
       "┌─────────────────┬──────────────────────────────────┬───────────┬────────┬───────────┬────────┬───────────────┬────────────────┬─────────────────────┬────────────────┬─────────────────────┬───────┬───────┬───────┐\n",
       "│ len_last_update │                id                │ confirmed │ deaths │ recovered │ active │ incident_rate │ incidence_rate │ case_fatality_ratio │  last_update   │      load_date      │ year  │ month │  day  │\n",
       "│      int64      │             varchar              │  double   │ double │  double   │ int64  │    double     │     double     │       double        │    varchar     │      timestamp      │ int64 │ int64 │ int64 │\n",
       "├─────────────────┼──────────────────────────────────┼───────────┼────────┼───────────┼────────┼───────────────┼────────────────┼─────────────────────┼────────────────┼─────────────────────┼───────┼───────┼───────┤\n",
       "│              14 │ ddf6ce64bc193e0c4914afc6785948d0 │      80.0 │    2.0 │       2.0 │   NULL │          NULL │           NULL │                NULL │ 2/1/2020 10:33 │ 2020-02-01 00:00:00 │  2020 │     2 │     1 │\n",
       "│              14 │ ab60efcde0cfd2d501446164a6e897f2 │      41.0 │    0.0 │       0.0 │   NULL │          NULL │           NULL │                NULL │ 2/1/2020 15:43 │ 2020-02-01 00:00:00 │  2020 │     2 │     1 │\n",
       "│              14 │ 09de8f58fb92b27703e90e2c0d0cfe7f │      40.0 │    0.0 │       0.0 │   NULL │          NULL │           NULL │                NULL │ 2/1/2020 15:43 │ 2020-02-01 00:00:00 │  2020 │     2 │     1 │\n",
       "│              14 │ 6b97ecdccf72141167b6e65e50668a1b │       4.0 │    0.0 │       0.0 │   NULL │          NULL │           NULL │                NULL │ 1/31/2020 8:15 │ 2020-02-01 00:00:00 │  2020 │     2 │     1 │\n",
       "│              14 │ eb3048eb72d964b3e1cd170d13b79913 │       3.0 │    0.0 │       0.0 │   NULL │          NULL │           NULL │                NULL │ 2/1/2020 18:12 │ 2020-02-01 00:00:00 │  2020 │     2 │     1 │\n",
       "│              14 │ cf4f1f0a438cdca4969bab8f8a57ed11 │       2.0 │    0.0 │       0.0 │   NULL │          NULL │           NULL │                NULL │ 1/31/2020 8:15 │ 2020-02-01 00:00:00 │  2020 │     2 │     1 │\n",
       "│              14 │ 0179f8d12bbbbdc3472c605061c85213 │       1.0 │    0.0 │       0.0 │   NULL │          NULL │           NULL │                NULL │ 1/31/2020 8:15 │ 2020-02-01 00:00:00 │  2020 │     2 │     1 │\n",
       "│              14 │ 049841caeace0cf0fa47089ee23c5be7 │       1.0 │    0.0 │       0.0 │   NULL │          NULL │           NULL │                NULL │ 2/1/2020 19:43 │ 2020-02-01 00:00:00 │  2020 │     2 │     1 │\n",
       "│              14 │ f091a08395836572c5ed03c86d99df0d │       0.0 │    0.0 │       0.0 │   NULL │          NULL │           NULL │                NULL │ 2/1/2020 11:53 │ 2020-02-01 00:00:00 │  2020 │     2 │     1 │\n",
       "│              14 │ e61936e5aea35447c429b64ab1eb8c9d │       0.0 │    0.0 │       0.0 │   NULL │          NULL │           NULL │                NULL │ 2/1/2020 11:53 │ 2020-02-01 00:00:00 │  2020 │     2 │     1 │\n",
       "├─────────────────┴──────────────────────────────────┴───────────┴────────┴───────────┴────────┴───────────────┴────────────────┴─────────────────────┴────────────────┴─────────────────────┴───────┴───────┴───────┤\n",
       "│ 10 rows                                                                                                                                                                                                 14 columns │\n",
       "└────────────────────────────────────────────────────────────────────────────────────────────────────────────────────────────────────────────────────────────────────────────────────────────────────────────────────┘"
      ]
     },
     "execution_count": 23,
     "metadata": {},
     "output_type": "execute_result"
    }
   ],
   "source": [
    "con.sql(\"\"\"\n",
    "    WITH t1 AS (\n",
    "        SELECT LENGTH(last_update) AS len_last_update, *\n",
    "        FROM covid19_raw.raw_github_csse_daily\n",
    "    )\n",
    "    SELECT *\n",
    "    FROM t1\n",
    "    WHERE len_last_update = 14\n",
    "    LIMIT 10;\n",
    "\n",
    "    -- Example Value: 2/1/2020 10:33\n",
    "\"\"\")"
   ]
  },
  {
   "cell_type": "code",
   "execution_count": 24,
   "id": "842c219b-ecd8-49c9-9e93-02d9f4008bb9",
   "metadata": {},
   "outputs": [
    {
     "data": {
      "text/plain": [
       "┌─────────────────┬──────────────────────────────────┬───────────┬────────┬───────────┬────────┬───────────────┬────────────────┬─────────────────────┬───────────────┬─────────────────────┬───────┬───────┬───────┐\n",
       "│ len_last_update │                id                │ confirmed │ deaths │ recovered │ active │ incident_rate │ incidence_rate │ case_fatality_ratio │  last_update  │      load_date      │ year  │ month │  day  │\n",
       "│      int64      │             varchar              │  double   │ double │  double   │ int64  │    double     │     double     │       double        │    varchar    │      timestamp      │ int64 │ int64 │ int64 │\n",
       "├─────────────────┼──────────────────────────────────┼───────────┼────────┼───────────┼────────┼───────────────┼────────────────┼─────────────────────┼───────────────┼─────────────────────┼───────┼───────┼───────┤\n",
       "│              13 │ 16f331ef53a23243b8a501196c4dbabc │      NULL │   NULL │      NULL │   NULL │          NULL │           NULL │                NULL │ 1/23/20 17:00 │ 2020-01-23 00:00:00 │  2020 │     1 │    23 │\n",
       "│              13 │ d6a76eb7adf42b3cba2c4063d2a5abc0 │      NULL │   NULL │      NULL │   NULL │          NULL │           NULL │                NULL │ 1/23/20 17:00 │ 2020-01-23 00:00:00 │  2020 │     1 │    23 │\n",
       "│              13 │ 0bbf4b34016952072976fa50aade0560 │       0.0 │    0.0 │       0.0 │   NULL │          NULL │           NULL │                NULL │ 1/23/20 17:00 │ 2020-01-23 00:00:00 │  2020 │     1 │    23 │\n",
       "│              13 │ bdc0944a3b81028e2db57852ba21084a │       0.0 │    0.0 │       0.0 │   NULL │          NULL │           NULL │                NULL │ 1/23/20 17:00 │ 2020-01-23 00:00:00 │  2020 │     1 │    23 │\n",
       "│              13 │ bd25167136e32f840386c55bdd8d8515 │       0.0 │    0.0 │       0.0 │   NULL │          NULL │           NULL │                NULL │ 1/23/20 17:00 │ 2020-01-23 00:00:00 │  2020 │     1 │    23 │\n",
       "│              13 │ 9ad6e864a78ecba48bf46adcf59e47fa │       1.0 │   NULL │      NULL │   NULL │          NULL │           NULL │                NULL │ 1/23/20 17:00 │ 2020-01-23 00:00:00 │  2020 │     1 │    23 │\n",
       "│              13 │ d02b42af65e5fa8930579e88cabe01bc │       3.0 │   NULL │      NULL │   NULL │          NULL │           NULL │                NULL │ 1/23/20 17:00 │ 2020-01-23 00:00:00 │  2020 │     1 │    23 │\n",
       "│              13 │ 30a635cf10f15c0e7186346d5109c39c │       1.0 │   NULL │      NULL │   NULL │          NULL │           NULL │                NULL │ 1/23/20 17:00 │ 2020-01-23 00:00:00 │  2020 │     1 │    23 │\n",
       "│              13 │ 8491c568150e47445b10ae2e6d64f096 │      NULL │   NULL │      NULL │   NULL │          NULL │           NULL │                NULL │ 1/23/20 17:00 │ 2020-01-23 00:00:00 │  2020 │     1 │    23 │\n",
       "│              13 │ 95b4a51b7ff3d80936dc472cb1a7bb27 │      NULL │   NULL │      NULL │   NULL │          NULL │           NULL │                NULL │ 1/23/20 17:00 │ 2020-01-23 00:00:00 │  2020 │     1 │    23 │\n",
       "├─────────────────┴──────────────────────────────────┴───────────┴────────┴───────────┴────────┴───────────────┴────────────────┴─────────────────────┴───────────────┴─────────────────────┴───────┴───────┴───────┤\n",
       "│ 10 rows                                                                                                                                                                                                14 columns │\n",
       "└───────────────────────────────────────────────────────────────────────────────────────────────────────────────────────────────────────────────────────────────────────────────────────────────────────────────────┘"
      ]
     },
     "execution_count": 24,
     "metadata": {},
     "output_type": "execute_result"
    }
   ],
   "source": [
    "con.sql(\"\"\"\n",
    "    WITH t1 AS (\n",
    "        SELECT LENGTH(last_update) AS len_last_update, *\n",
    "        FROM covid19_raw.raw_github_csse_daily\n",
    "    )\n",
    "    SELECT *\n",
    "    FROM t1\n",
    "    WHERE len_last_update = 13\n",
    "    LIMIT 10;\n",
    "\n",
    "    -- Example Value: 1/23/20 17:00\n",
    "\"\"\")"
   ]
  },
  {
   "cell_type": "code",
   "execution_count": 27,
   "id": "ef96ded8-cd3b-4461-bada-86438b380b49",
   "metadata": {},
   "outputs": [
    {
     "data": {
      "text/plain": [
       "┌─────────────────┬──────────────────────────────────┬───────────┬────────┬───────────┬────────┬───────────────┬────────────────┬─────────────────────┬──────────────┬─────────────────────┬───────┬───────┬───────┐\n",
       "│ len_last_update │                id                │ confirmed │ deaths │ recovered │ active │ incident_rate │ incidence_rate │ case_fatality_ratio │ last_update  │      load_date      │ year  │ month │  day  │\n",
       "│      int64      │             varchar              │  double   │ double │  double   │ int64  │    double     │     double     │       double        │   varchar    │      timestamp      │ int64 │ int64 │ int64 │\n",
       "├─────────────────┼──────────────────────────────────┼───────────┼────────┼───────────┼────────┼───────────────┼────────────────┼─────────────────────┼──────────────┼─────────────────────┼───────┼───────┼───────┤\n",
       "│              12 │ 4c7454ac7ae65061c65886d8caf0c9b3 │       6.0 │    0.0 │       0.0 │      6 │          NULL │           NULL │                NULL │ 4/6/20 23:22 │ 2020-04-06 00:00:00 │  2020 │     4 │     6 │\n",
       "│              12 │ c667cfe0ff474dda1e417b23725ee837 │      11.0 │    0.0 │       0.0 │     11 │          NULL │           NULL │                NULL │ 4/6/20 23:22 │ 2020-04-06 00:00:00 │  2020 │     4 │     6 │\n",
       "│              12 │ 912fa0ae3fb0633fb9ffb08dbc8be2e8 │       4.0 │    0.0 │       0.0 │      4 │          NULL │           NULL │                NULL │ 4/6/20 23:22 │ 2020-04-06 00:00:00 │  2020 │     4 │     6 │\n",
       "│              12 │ 22404f02f5a91ecfc67d2204dd2f8ae0 │       6.0 │    0.0 │       0.0 │      6 │          NULL │           NULL │                NULL │ 4/6/20 23:22 │ 2020-04-06 00:00:00 │  2020 │     4 │     6 │\n",
       "│              12 │ c4c43566ef86ecc365c686356db8241c │       1.0 │    0.0 │       0.0 │      1 │          NULL │           NULL │                NULL │ 4/6/20 23:22 │ 2020-04-06 00:00:00 │  2020 │     4 │     6 │\n",
       "│              12 │ 31f520c13288390d85bc80bb36e760f5 │       1.0 │    0.0 │       0.0 │      1 │          NULL │           NULL │                NULL │ 4/6/20 23:22 │ 2020-04-06 00:00:00 │  2020 │     4 │     6 │\n",
       "│              12 │ 471c9eb7f326003dd298739cea468376 │     203.0 │    2.0 │       0.0 │    201 │          NULL │           NULL │                NULL │ 4/6/20 23:22 │ 2020-04-06 00:00:00 │  2020 │     4 │     6 │\n",
       "│              12 │ 9ebc3fa48878af0f6baecd295259e27c │       1.0 │    0.0 │       0.0 │      1 │          NULL │           NULL │                NULL │ 4/6/20 23:22 │ 2020-04-06 00:00:00 │  2020 │     4 │     6 │\n",
       "│              12 │ ce14cc77f7b1cc076466c77286c431bd │       1.0 │    0.0 │       0.0 │      1 │          NULL │           NULL │                NULL │ 4/6/20 23:22 │ 2020-04-06 00:00:00 │  2020 │     4 │     6 │\n",
       "│              12 │ 44a6d92c518a92d80940f567f0bfa8ea │       1.0 │    0.0 │       0.0 │      1 │          NULL │           NULL │                NULL │ 4/6/20 23:22 │ 2020-04-06 00:00:00 │  2020 │     4 │     6 │\n",
       "├─────────────────┴──────────────────────────────────┴───────────┴────────┴───────────┴────────┴───────────────┴────────────────┴─────────────────────┴──────────────┴─────────────────────┴───────┴───────┴───────┤\n",
       "│ 10 rows                                                                                                                                                                                               14 columns │\n",
       "└──────────────────────────────────────────────────────────────────────────────────────────────────────────────────────────────────────────────────────────────────────────────────────────────────────────────────┘"
      ]
     },
     "execution_count": 27,
     "metadata": {},
     "output_type": "execute_result"
    }
   ],
   "source": [
    "con.sql(\"\"\"\n",
    "    WITH t1 AS (\n",
    "        SELECT LENGTH(last_update) AS len_last_update, *\n",
    "        FROM covid19_raw.raw_github_csse_daily\n",
    "    )\n",
    "    SELECT *\n",
    "    FROM t1\n",
    "    WHERE len_last_update = 12\n",
    "    LIMIT 10;\n",
    "\n",
    "    -- Example Value: 4/6/20 23:22\n",
    "\"\"\")"
   ]
  },
  {
   "cell_type": "code",
   "execution_count": 28,
   "id": "1db22e23-b524-471c-8023-c90eb026fa39",
   "metadata": {},
   "outputs": [
    {
     "data": {
      "text/plain": [
       "┌─────────────────┬──────────────────────────────────┬───────────┬────────┬───────────┬────────┬───────────────┬────────────────┬─────────────────────┬─────────────┬─────────────────────┬───────┬───────┬───────┐\n",
       "│ len_last_update │                id                │ confirmed │ deaths │ recovered │ active │ incident_rate │ incidence_rate │ case_fatality_ratio │ last_update │      load_date      │ year  │ month │  day  │\n",
       "│      int64      │             varchar              │  double   │ double │  double   │ int64  │    double     │     double     │       double        │   varchar   │      timestamp      │ int64 │ int64 │ int64 │\n",
       "├─────────────────┼──────────────────────────────────┼───────────┼────────┼───────────┼────────┼───────────────┼────────────────┼─────────────────────┼─────────────┼─────────────────────┼───────┼───────┼───────┤\n",
       "│              11 │ 56d20d41e1cd9cca2769f9a58b381c8d │     990.0 │    6.0 │     984.0 │      0 │          NULL │           NULL │                NULL │ 3/8/20 5:19 │ 2020-04-06 00:00:00 │  2020 │     4 │     6 │\n",
       "│              11 │ ab0966995c1748f305cbcb32bd33f44d │     327.0 │    6.0 │     310.0 │     11 │          NULL │           NULL │                NULL │ 4/5/20 1:06 │ 2020-04-06 00:00:00 │  2020 │     4 │     6 │\n",
       "│              11 │ b87d6fb6ff32f61579794691a0156318 │     914.0 │    4.0 │     216.0 │    694 │          NULL │           NULL │                NULL │ 4/6/20 9:37 │ 2020-04-06 00:00:00 │  2020 │     4 │     6 │\n",
       "│              11 │ a54c2198719ccdcbda53c203a7a318c7 │     142.0 │    2.0 │     128.0 │     12 │          NULL │           NULL │                NULL │ 4/6/20 0:42 │ 2020-04-06 00:00:00 │  2020 │     4 │     6 │\n",
       "│              11 │ c71d66d6f360fa54533675a9a4a21edc │     780.0 │    7.0 │     755.0 │     18 │          NULL │           NULL │                NULL │ 4/6/20 0:42 │ 2020-04-06 00:00:00 │  2020 │     4 │     6 │\n",
       "│              11 │ 92ed0b1b45de29239bb088c3d679ccb9 │     559.0 │    3.0 │     540.0 │     16 │          NULL │           NULL │                NULL │ 4/6/20 1:14 │ 2020-04-06 00:00:00 │  2020 │     4 │     6 │\n",
       "│              11 │ e9316cbb71a0d9cc61792c0beb0b42fc │     350.0 │    1.0 │     305.0 │     44 │          NULL │           NULL │                NULL │ 4/6/20 1:14 │ 2020-04-06 00:00:00 │  2020 │     4 │     6 │\n",
       "│              11 │ 489380dd9350f1dddaaffb8055f010c7 │     524.0 │   13.0 │     469.0 │     42 │          NULL │           NULL │                NULL │ 4/6/20 0:42 │ 2020-04-06 00:00:00 │  2020 │     4 │     6 │\n",
       "│              11 │ 5a9db59d5784d3ebece621369d8a19c7 │     138.0 │    0.0 │     133.0 │      5 │          NULL │           NULL │                NULL │ 4/5/20 0:58 │ 2020-04-06 00:00:00 │  2020 │     4 │     6 │\n",
       "│              11 │ 0812da7a383dacf4e3a6a52773edc37e │     373.0 │    5.0 │      57.0 │    311 │          NULL │           NULL │                NULL │ 4/6/20 6:20 │ 2020-04-06 00:00:00 │  2020 │     4 │     6 │\n",
       "├─────────────────┴──────────────────────────────────┴───────────┴────────┴───────────┴────────┴───────────────┴────────────────┴─────────────────────┴─────────────┴─────────────────────┴───────┴───────┴───────┤\n",
       "│ 10 rows                                                                                                                                                                                              14 columns │\n",
       "└─────────────────────────────────────────────────────────────────────────────────────────────────────────────────────────────────────────────────────────────────────────────────────────────────────────────────┘"
      ]
     },
     "execution_count": 28,
     "metadata": {},
     "output_type": "execute_result"
    }
   ],
   "source": [
    "con.sql(\"\"\"\n",
    "    WITH t1 AS (\n",
    "        SELECT LENGTH(last_update) AS len_last_update, *\n",
    "        FROM covid19_raw.raw_github_csse_daily\n",
    "    )\n",
    "    SELECT *\n",
    "    FROM t1\n",
    "    WHERE len_last_update = 11\n",
    "    LIMIT 10;\n",
    "\n",
    "    -- Example Value: 3/8/20 5:19\n",
    "\"\"\")"
   ]
  },
  {
   "cell_type": "markdown",
   "id": "027fc137-a9cd-44b6-8133-e2a159a30922",
   "metadata": {},
   "source": [
    "## Data Cleansing\n",
    "\n",
    "Based on the previous queries, we saw that we have different date formats for the last_update field that we need to standardize. This is an important process especially that we are dealing with timeseries dataset.\n",
    "The following are some of the examples:\n",
    "\n",
    "- 2023-01-06 04:21:02 => 19 characters\n",
    "- 2021-01-15 17:22  => 16 characters\n",
    "- 1/22/2020 17:00 => 15 characters\n",
    "- 2/1/2020 10:33 => 14 characters\n",
    "- 1/23/20 17:00 => 13 characters\n",
    "- 4/6/20 23:22 => 12 characters\n",
    "- 3/8/20 5:19 => 11 characters"
   ]
  },
  {
   "cell_type": "code",
   "execution_count": 37,
   "id": "3403b74a-5a3d-495d-8315-3551b2006339",
   "metadata": {},
   "outputs": [
    {
     "data": {
      "text/plain": [
       "┌─────────────────────┐\n",
       "│    c_last_update    │\n",
       "│      timestamp      │\n",
       "├─────────────────────┤\n",
       "│ 2023-01-06 04:21:02 │\n",
       "│ 2023-01-06 04:21:02 │\n",
       "│ 2023-01-06 04:21:02 │\n",
       "│ 2023-01-06 04:21:02 │\n",
       "│ 2023-01-06 04:21:02 │\n",
       "│ 2023-01-06 04:21:02 │\n",
       "│ 2023-01-06 04:21:02 │\n",
       "│ 2023-01-06 04:21:02 │\n",
       "│ 2023-01-06 04:21:02 │\n",
       "│ 2023-01-06 04:21:02 │\n",
       "│ 2023-01-06 04:21:02 │\n",
       "│ 2023-01-06 04:21:02 │\n",
       "│ 2023-01-06 04:21:02 │\n",
       "│ 2023-01-06 04:21:02 │\n",
       "│ 2023-01-06 04:21:02 │\n",
       "│ 2023-01-06 04:21:02 │\n",
       "│ 2023-01-06 04:21:02 │\n",
       "│ 2023-01-06 04:21:02 │\n",
       "│ 2023-01-06 04:21:02 │\n",
       "│ 2023-01-06 04:21:02 │\n",
       "├─────────────────────┤\n",
       "│       20 rows       │\n",
       "└─────────────────────┘"
      ]
     },
     "execution_count": 37,
     "metadata": {},
     "output_type": "execute_result"
    }
   ],
   "source": [
    "con.sql(\"\"\"\n",
    "    WITH t1 AS (\n",
    "        SELECT LENGTH(last_update) AS len_last_update, *\n",
    "        FROM covid19_raw.raw_github_csse_daily\n",
    "    )\n",
    "    SELECT try_strptime(last_update, '%Y-%m-%d %H:%M:%S') AS c_last_update\n",
    "    FROM t1\n",
    "    WHERE len_last_update = 19\n",
    "    LIMIT 20;\n",
    "\"\"\")"
   ]
  },
  {
   "cell_type": "code",
   "execution_count": 39,
   "id": "e62c83c9-b225-4d76-806a-b48031dc9778",
   "metadata": {},
   "outputs": [
    {
     "data": {
      "text/plain": [
       "┌─────────────────────┐\n",
       "│    c_last_update    │\n",
       "│      timestamp      │\n",
       "├─────────────────────┤\n",
       "│ 2021-01-15 17:22:00 │\n",
       "│ 2021-01-15 17:22:00 │\n",
       "│ 2021-01-15 17:22:00 │\n",
       "│ 2021-01-15 17:22:00 │\n",
       "│ 2021-01-15 17:22:00 │\n",
       "│ 2021-01-15 17:22:00 │\n",
       "│ 2021-01-15 17:22:00 │\n",
       "│ 2021-01-15 17:22:00 │\n",
       "│ 2021-01-15 17:22:00 │\n",
       "│ 2021-01-15 17:22:00 │\n",
       "│ 2021-01-15 17:22:00 │\n",
       "│ 2021-01-15 17:22:00 │\n",
       "│ 2021-01-15 17:22:00 │\n",
       "│ 2021-01-15 17:22:00 │\n",
       "│ 2021-01-15 17:22:00 │\n",
       "│ 2021-01-15 17:22:00 │\n",
       "│ 2021-01-15 17:22:00 │\n",
       "│ 2021-01-15 17:22:00 │\n",
       "│ 2021-01-15 17:22:00 │\n",
       "│ 2021-01-15 17:22:00 │\n",
       "├─────────────────────┤\n",
       "│       20 rows       │\n",
       "└─────────────────────┘"
      ]
     },
     "execution_count": 39,
     "metadata": {},
     "output_type": "execute_result"
    }
   ],
   "source": [
    "con.sql(\"\"\"\n",
    "    WITH t1 AS (\n",
    "        SELECT LENGTH(last_update) AS len_last_update, *\n",
    "        FROM covid19_raw.raw_github_csse_daily\n",
    "    )\n",
    "    SELECT try_strptime(last_update, '%Y-%m-%d %H:%M') AS c_last_update\n",
    "    FROM t1\n",
    "    WHERE len_last_update = 16\n",
    "    LIMIT 20;\n",
    "\"\"\")\n"
   ]
  },
  {
   "cell_type": "code",
   "execution_count": 45,
   "id": "9b47ebc4-3550-47e0-b7d5-34cbdaafd2fb",
   "metadata": {},
   "outputs": [
    {
     "data": {
      "text/plain": [
       "┌───────────────┐\n",
       "│ c_last_update │\n",
       "│   timestamp   │\n",
       "├───────────────┤\n",
       "│    0 rows     │\n",
       "└───────────────┘"
      ]
     },
     "execution_count": 45,
     "metadata": {},
     "output_type": "execute_result"
    }
   ],
   "source": [
    "\"\"\"\n",
    "2/1/2020 10:33 => 14 characters\n",
    "1/23/20 17:00 => 13 characters\n",
    "4/6/20 23:22 => 12 characters\n",
    "3/8/20 5:19 => 11 characters\n",
    "\"\"\"\n",
    "con.sql(\"\"\"\n",
    "    WITH t1 AS (\n",
    "        SELECT LENGTH(last_update) AS len_last_update, *\n",
    "        FROM covid19_raw.raw_github_csse_daily\n",
    "    )\n",
    "    SELECT try_strptime(last_update, '%-m/%-d/%Y %H:%M') AS c_last_update\n",
    "    FROM t1\n",
    "    WHERE len_last_update = 15\n",
    "    LIMIT 20;\n",
    "\"\"\")\n"
   ]
  },
  {
   "cell_type": "code",
   "execution_count": 48,
   "id": "a6f999c7-fe77-4cf4-8406-93c2dff7e562",
   "metadata": {},
   "outputs": [
    {
     "data": {
      "text/plain": [
       "┌─────────────────────┐\n",
       "│    c_last_update    │\n",
       "│      timestamp      │\n",
       "├─────────────────────┤\n",
       "│ 2020-02-01 10:33:00 │\n",
       "│ 2020-02-01 15:43:00 │\n",
       "│ 2020-02-01 15:43:00 │\n",
       "│ 2020-01-31 08:15:00 │\n",
       "│ 2020-02-01 18:12:00 │\n",
       "│ 2020-01-31 08:15:00 │\n",
       "│ 2020-01-31 08:15:00 │\n",
       "│ 2020-02-01 19:43:00 │\n",
       "│ 2020-02-01 11:53:00 │\n",
       "│ 2020-02-01 11:53:00 │\n",
       "│ 2020-02-01 19:53:00 │\n",
       "│ 2020-02-01 11:53:00 │\n",
       "│ 2020-02-01 11:53:00 │\n",
       "│ 2020-02-01 11:53:00 │\n",
       "│ 2020-02-01 18:12:00 │\n",
       "│ 2020-02-01 19:43:00 │\n",
       "│ 2020-02-01 11:53:00 │\n",
       "│ 2020-02-01 11:53:00 │\n",
       "│ 2020-02-01 14:23:00 │\n",
       "│ 2020-01-31 08:15:00 │\n",
       "├─────────────────────┤\n",
       "│       20 rows       │\n",
       "└─────────────────────┘"
      ]
     },
     "execution_count": 48,
     "metadata": {},
     "output_type": "execute_result"
    }
   ],
   "source": [
    "\"\"\"\n",
    "2/1/2020 10:33 => 14 characters\n",
    "1/23/20 17:00 => 13 characters\n",
    "4/6/20 23:22 => 12 characters\n",
    "3/8/20 5:19 => 11 characters\n",
    "\"\"\"\n",
    "con.sql(\"\"\"\n",
    "    WITH t1 AS (\n",
    "        SELECT LENGTH(last_update) AS len_last_update, *\n",
    "        FROM covid19_raw.raw_github_csse_daily\n",
    "    )\n",
    "    SELECT try_strptime(last_update, '%-m/%-d/%Y %H:%M') AS c_last_update\n",
    "    FROM t1\n",
    "    WHERE len_last_update = 14\n",
    "    LIMIT 20;\n",
    "\"\"\")\n"
   ]
  },
  {
   "cell_type": "code",
   "execution_count": 58,
   "id": "a828ec34-6843-4176-afa4-615e3d9d8708",
   "metadata": {
    "scrolled": true
   },
   "outputs": [
    {
     "data": {
      "text/plain": [
       "┌─────────────────────┐\n",
       "│    c_last_update    │\n",
       "│      timestamp      │\n",
       "├─────────────────────┤\n",
       "│ 2020-01-23 17:00:00 │\n",
       "│ 2020-01-23 17:00:00 │\n",
       "│ 2020-01-23 17:00:00 │\n",
       "│ 2020-01-23 17:00:00 │\n",
       "│ 2020-01-23 17:00:00 │\n",
       "│ 2020-01-23 17:00:00 │\n",
       "│ 2020-01-23 17:00:00 │\n",
       "│ 2020-01-23 17:00:00 │\n",
       "│ 2020-01-23 17:00:00 │\n",
       "│ 2020-01-23 17:00:00 │\n",
       "│ 2020-01-23 17:00:00 │\n",
       "│ 2020-01-23 17:00:00 │\n",
       "│ 2020-01-23 17:00:00 │\n",
       "│ 2020-01-23 17:00:00 │\n",
       "│ 2020-01-23 17:00:00 │\n",
       "│ 2020-01-23 17:00:00 │\n",
       "│ 2020-01-23 17:00:00 │\n",
       "│ 2020-01-23 17:00:00 │\n",
       "│ 2020-01-23 17:00:00 │\n",
       "│ 2020-01-23 17:00:00 │\n",
       "├─────────────────────┤\n",
       "│       20 rows       │\n",
       "└─────────────────────┘"
      ]
     },
     "execution_count": 58,
     "metadata": {},
     "output_type": "execute_result"
    }
   ],
   "source": [
    "\"\"\"\n",
    "1/23/20 17:00 => 13 characters\n",
    "4/6/20 23:22 => 12 characters\n",
    "3/8/20 5:19 => 11 characters\n",
    "\"\"\"\n",
    "con.sql(\"\"\"\n",
    "    WITH t1 AS (\n",
    "        SELECT LENGTH(last_update) AS len_last_update, *\n",
    "        FROM covid19_raw.raw_github_csse_daily\n",
    "    )\n",
    "    SELECT try_strptime(last_update, '%-m/%-d/%-y %-H:%-M') AS c_last_update\n",
    "    FROM t1\n",
    "    WHERE len_last_update = 13\n",
    "    LIMIT 20;\n",
    "\"\"\")"
   ]
  },
  {
   "cell_type": "code",
   "execution_count": 65,
   "id": "17bfabc3-52c2-42de-a92c-c93f84f9090a",
   "metadata": {},
   "outputs": [
    {
     "data": {
      "text/plain": [
       "┌───────────────┬─────────────┐\n",
       "│ c_last_update │ last_update │\n",
       "│   timestamp   │   varchar   │\n",
       "├───────────────┴─────────────┤\n",
       "│           0 rows            │\n",
       "└─────────────────────────────┘"
      ]
     },
     "execution_count": 65,
     "metadata": {},
     "output_type": "execute_result"
    }
   ],
   "source": [
    "\n",
    "\n",
    "con.sql(\"\"\"\n",
    "    WITH t1 AS (\n",
    "        SELECT COALESCE(\n",
    "            try_strptime(last_update, '%Y-%m-%dT%H:%M:%S'),\n",
    "            try_strptime(last_update, '%Y-%m-%d %H:%M:%S'),\n",
    "            try_strptime(last_update, '%Y-%m-%d %H:%M'),\n",
    "            try_strptime(last_update, '%-m/%-d/%Y %H:%M'),\n",
    "            try_strptime(last_update, '%-m/%-d/%-y %-H:%-M'),\n",
    "            try_strptime(last_update, '%-m/%-d/%Y %H:%M')\n",
    "        ) AS c_last_update,\n",
    "        last_update\n",
    "        FROM covid19_raw.raw_github_csse_daily\n",
    "    )\n",
    "    SELECT *\n",
    "    FROM t1\n",
    "\"\"\")"
   ]
  },
  {
   "cell_type": "code",
   "execution_count": 90,
   "id": "78491ecb-c0d7-4c24-b3be-d396208dc7c1",
   "metadata": {
    "scrolled": true
   },
   "outputs": [
    {
     "data": {
      "text/plain": [
       "┌──────────────────────────────────┬───────────┬────────┬───────────┬────────┬────────────────────┬────────────────┬─────────────────────┬─────────────────────┬─────────────────────┬───────┬───────┬───────┐\n",
       "│                id                │ confirmed │ deaths │ recovered │ active │   incident_rate    │ incidence_rate │ case_fatality_ratio │     last_update     │      load_date      │ year  │ month │  day  │\n",
       "│             varchar              │  double   │ double │  double   │ int64  │       double       │     double     │       double        │       varchar       │      timestamp      │ int64 │ int64 │ int64 │\n",
       "├──────────────────────────────────┼───────────┼────────┼───────────┼────────┼────────────────────┼────────────────┼─────────────────────┼─────────────────────┼─────────────────────┼───────┼───────┼───────┤\n",
       "│ d044dd74e9765cfd76636341047342ae │       1.0 │    0.0 │       0.0 │      1 │ 0.9461006461867414 │           NULL │                 0.0 │ 2021-11-01 04:22:01 │ 2021-10-31 00:00:00 │  2021 │    10 │    31 │\n",
       "│ 9a537cafdcc51e9004938fd70ccc637c │       1.0 │    0.0 │       0.0 │      1 │ 0.9461006461867414 │           NULL │                 0.0 │ 2021-10-31 04:22:08 │ 2021-10-30 00:00:00 │  2021 │    10 │    30 │\n",
       "│ 729716f2c0e284b74c74b443b4279da8 │       1.0 │    0.0 │       0.0 │      1 │ 0.9461006461867414 │           NULL │                 0.0 │ 2021-10-30 04:22:03 │ 2021-10-29 00:00:00 │  2021 │    10 │    29 │\n",
       "│ 1968cfd2ad1834d45dd4d9be93a1657c │    3371.0 │   56.0 │    2542.0 │    773 │  1324.037706205813 │           NULL │  1.6612281222189262 │ 2021-09-23 04:21:43 │ 2021-09-22 00:00:00 │  2021 │     9 │    22 │\n",
       "│ 26d53129091cf2cf627deede0398c7d0 │  128551.0 │ 1710.0 │  117622.0 │   9219 │  5880.918614758223 │           NULL │  1.3302113558043112 │ 2021-09-23 04:21:43 │ 2021-09-22 00:00:00 │  2021 │     9 │    22 │\n",
       "│ fb950409a2caf36aa45eccd85518468a │  664024.0 │ 8880.0 │  624641.0 │  30503 │ 10150.323300570171 │           NULL │   1.337301061407419 │ 2021-09-23 04:21:43 │ 2021-09-22 00:00:00 │  2021 │     9 │    22 │\n",
       "│ 5fbdd80ffc5dd5569aed2f188d5f61dd │   50190.0 │  333.0 │   40876.0 │   8981 │  4014.878809695224 │           NULL │  0.6634787806335923 │ 2021-09-23 04:21:43 │ 2021-09-22 00:00:00 │  2021 │     9 │    22 │\n",
       "│ 94f5c27c37e0fb6091238012bbbfe5c5 │   94842.0 │  775.0 │   81005.0 │  13062 │  3772.103567593366 │           NULL │  0.8171485206975813 │ 2021-09-23 04:21:43 │ 2021-09-22 00:00:00 │  2021 │     9 │    22 │\n",
       "│ 81acb23ba904e8949e1a28598af68146 │    9936.0 │  148.0 │    9727.0 │     61 │  9995.975855130784 │           NULL │  1.4895330112721417 │ 2021-09-23 04:21:43 │ 2021-09-22 00:00:00 │  2021 │     9 │    22 │\n",
       "│ 5564f3d1776f73d640169f55d1a08455 │    5955.0 │   22.0 │    5552.0 │    381 │ 5649.9051233396585 │           NULL │  0.3694374475230898 │ 2021-09-23 04:21:43 │ 2021-09-22 00:00:00 │  2021 │     9 │    22 │\n",
       "│ bdcad5264c0bbf5b9c7b97363469155a │   96054.0 │ 1187.0 │   92943.0 │   1924 │  8484.586167299709 │           NULL │  1.2357632165240386 │ 2021-09-23 04:21:43 │ 2021-09-22 00:00:00 │  2021 │     9 │    22 │\n",
       "│ bda7cb283926c681f0d375793c097da2 │  106330.0 │  725.0 │   93392.0 │  12213 │ 5619.3848430398475 │           NULL │  0.6818395560989373 │ 2021-09-23 04:21:43 │ 2021-09-22 00:00:00 │  2021 │     9 │    22 │\n",
       "│ 5a51542f1212a4fa1d0cce041ee187fe │   55728.0 │  824.0 │   50756.0 │   4148 │  5974.911547121261 │           NULL │  1.4786103933390755 │ 2021-09-23 04:21:43 │ 2021-09-22 00:00:00 │  2021 │     9 │    22 │\n",
       "│ 3b5b52c4e6c1bfcf31492561e17c6147 │  122595.0 │ 1197.0 │  107603.0 │  13795 │  6896.658415841584 │           NULL │  0.9763856601003305 │ 2021-09-23 04:21:43 │ 2021-09-22 00:00:00 │  2021 │     9 │    22 │\n",
       "│ 183edc4dd4fe864ace2ff60f49d7dbbd │  188843.0 │  710.0 │  145032.0 │  43101 │  6701.075192505589 │           NULL │  0.3759736924323379 │ 2021-09-23 04:21:43 │ 2021-09-22 00:00:00 │  2021 │     9 │    22 │\n",
       "│ adaf40ad81cee0b3ba0928395d1a5a29 │  183867.0 │ 2392.0 │  176021.0 │   5454 │ 10338.900134952766 │           NULL │   1.300940353625175 │ 2021-09-23 04:21:43 │ 2021-09-22 00:00:00 │  2021 │     9 │    22 │\n",
       "│ 64b90c2ba1b649f2b2c931ac04dcab54 │  184221.0 │ 3012.0 │  152550.0 │  28659 │  4888.832864497638 │           NULL │  1.6349927532691713 │ 2021-09-23 04:21:43 │ 2021-09-22 00:00:00 │  2021 │     9 │    22 │\n",
       "│ 2fcec11236180c179befe2be31e2b008 │   59094.0 │  557.0 │   48737.0 │   9800 │ 3523.5823743366527 │           NULL │  0.9425660811588316 │ 2021-09-23 04:21:43 │ 2021-09-22 00:00:00 │  2021 │     9 │    22 │\n",
       "│ dc57c456b4caa4d792d4975d42a34dce │  189323.0 │ 2037.0 │  168086.0 │  19200 │  4848.592721591927 │           NULL │  1.0759390037132308 │ 2021-09-23 04:21:43 │ 2021-09-22 00:00:00 │  2021 │     9 │    22 │\n",
       "│ f5060ea6d3ce3badd04027cd7ef0c7ea │  104757.0 │  699.0 │   92120.0 │  11938 │  5536.254095761547 │           NULL │  0.6672585125576334 │ 2021-09-22 04:21:45 │ 2021-09-21 00:00:00 │  2021 │     9 │    21 │\n",
       "├──────────────────────────────────┴───────────┴────────┴───────────┴────────┴────────────────────┴────────────────┴─────────────────────┴─────────────────────┴─────────────────────┴───────┴───────┴───────┤\n",
       "│ 20 rows                                                                                                                                                                                         13 columns │\n",
       "└────────────────────────────────────────────────────────────────────────────────────────────────────────────────────────────────────────────────────────────────────────────────────────────────────────────┘"
      ]
     },
     "execution_count": 90,
     "metadata": {},
     "output_type": "execute_result"
    }
   ],
   "source": [
    "con.sql(\"SELECT * FROM covid19_raw.raw_github_csse_daily WHERE active > 0 LIMIT 20\")"
   ]
  },
  {
   "cell_type": "code",
   "execution_count": 73,
   "id": "7978ea01-8e76-429f-aef6-85b0f07d0777",
   "metadata": {},
   "outputs": [
    {
     "data": {
      "text/plain": [
       "┌────────────────┬─────────────┬────────────────┬─────────────┬────────────────────┬──────────────────────────┐\n",
       "│ confirmed_null │ deaths_null │ recovered_null │ active_null │ incident_rate_null │ case_fatality_ratio_null │\n",
       "│     int64      │    int64    │     int64      │    int64    │       int64        │          int64           │\n",
       "├────────────────┼─────────────┼────────────────┼─────────────┼────────────────────┼──────────────────────────┤\n",
       "│             28 │         433 │        2683864 │     2693277 │             945434 │                   272460 │\n",
       "└────────────────┴─────────────┴────────────────┴─────────────┴────────────────────┴──────────────────────────┘"
      ]
     },
     "execution_count": 73,
     "metadata": {},
     "output_type": "execute_result"
    }
   ],
   "source": [
    "con.sql(\"\"\"\n",
    "    SELECT COUNT(CASE WHEN confirmed IS NULL THEN 1 ELSE NULL END) AS confirmed_null,\n",
    "        COUNT(CASE WHEN deaths IS NULL THEN 1 ELSE NULL END) AS deaths_null,\n",
    "        COUNT(CASE WHEN recovered IS NULL THEN 1 ELSE NULL END) AS recovered_null,\n",
    "        COUNT(CASE WHEN active IS NULL THEN 1 ELSE NULL END) AS active_null,\n",
    "        COUNT(CASE WHEN incident_rate IS NULL THEN 1 ELSE NULL END) AS incident_rate_null,\n",
    "        COUNT(CASE WHEN case_fatality_ratio IS NULL THEN 1 ELSE NULL END) AS case_fatality_ratio_null\n",
    "    FROM covid19_raw.raw_github_csse_daily \n",
    "\"\"\")"
   ]
  },
  {
   "cell_type": "code",
   "execution_count": 75,
   "id": "c671685f-64f2-4aad-bfd9-6eebd22ea947",
   "metadata": {},
   "outputs": [
    {
     "data": {
      "text/plain": [
       "┌────────────────┬───────────────────┬────────────────┐\n",
       "│ min(confirmed) │  avg(confirmed)   │ max(confirmed) │\n",
       "│     double     │      double       │     double     │\n",
       "├────────────────┼───────────────────┼────────────────┤\n",
       "│      -302844.0 │ 70638.85375641855 │     38487384.0 │\n",
       "└────────────────┴───────────────────┴────────────────┘"
      ]
     },
     "execution_count": 75,
     "metadata": {},
     "output_type": "execute_result"
    }
   ],
   "source": [
    "con.sql(\"\"\"\n",
    "    SELECT MIN(confirmed),\n",
    "           AVG(confirmed),\n",
    "           MAX(confirmed)\n",
    "    FROM covid19_raw.raw_github_csse_daily \n",
    "\"\"\")"
   ]
  },
  {
   "cell_type": "code",
   "execution_count": 76,
   "id": "7bdb4790-8f7f-4688-a5d9-fc93c547c04f",
   "metadata": {},
   "outputs": [
    {
     "data": {
      "text/plain": [
       "┌──────────┐\n",
       "│ count(1) │\n",
       "│  int64   │\n",
       "├──────────┤\n",
       "│        4 │\n",
       "└──────────┘"
      ]
     },
     "execution_count": 76,
     "metadata": {},
     "output_type": "execute_result"
    }
   ],
   "source": [
    "con.sql(\"\"\"\n",
    "    SELECT COUNT(1)\n",
    "    FROM covid19_raw.raw_github_csse_daily \n",
    "    WHERE confirmed < 0\n",
    "\"\"\")"
   ]
  },
  {
   "cell_type": "code",
   "execution_count": 77,
   "id": "0da61d1f-9649-48b5-9a99-d611bd120c5d",
   "metadata": {},
   "outputs": [
    {
     "data": {
      "text/plain": [
       "┌─────────────┬────────────────────┬─────────────┐\n",
       "│ min(deaths) │    avg(deaths)     │ max(deaths) │\n",
       "│   double    │       double       │   double    │\n",
       "├─────────────┼────────────────────┼─────────────┤\n",
       "│      -178.0 │ 1007.1828728022742 │    185641.0 │\n",
       "└─────────────┴────────────────────┴─────────────┘"
      ]
     },
     "execution_count": 77,
     "metadata": {},
     "output_type": "execute_result"
    }
   ],
   "source": [
    "con.sql(\"\"\"\n",
    "    SELECT MIN(deaths),\n",
    "           AVG(deaths),\n",
    "           MAX(deaths)\n",
    "    FROM covid19_raw.raw_github_csse_daily \n",
    "\"\"\")"
   ]
  },
  {
   "cell_type": "code",
   "execution_count": 78,
   "id": "084cd8cf-8685-4ff5-9af8-8b43ddafc3e5",
   "metadata": {},
   "outputs": [
    {
     "data": {
      "text/plain": [
       "┌──────────┐\n",
       "│ count(1) │\n",
       "│  int64   │\n",
       "├──────────┤\n",
       "│        5 │\n",
       "└──────────┘"
      ]
     },
     "execution_count": 78,
     "metadata": {},
     "output_type": "execute_result"
    }
   ],
   "source": [
    "con.sql(\"\"\"\n",
    "    SELECT COUNT(1)\n",
    "    FROM covid19_raw.raw_github_csse_daily \n",
    "    WHERE deaths < 0\n",
    "\"\"\")"
   ]
  },
  {
   "cell_type": "code",
   "execution_count": 79,
   "id": "be81483d-1f92-4d44-83d7-8a88b4718f46",
   "metadata": {},
   "outputs": [
    {
     "data": {
      "text/plain": [
       "┌────────────────┬────────────────────┬────────────────┐\n",
       "│ min(recovered) │   avg(recovered)   │ max(recovered) │\n",
       "│     double     │       double       │     double     │\n",
       "├────────────────┼────────────────────┼────────────────┤\n",
       "│      -854405.0 │ 16152.045607604488 │      6399531.0 │\n",
       "└────────────────┴────────────────────┴────────────────┘"
      ]
     },
     "execution_count": 79,
     "metadata": {},
     "output_type": "execute_result"
    }
   ],
   "source": [
    "con.sql(\"\"\"\n",
    "    SELECT MIN(recovered),\n",
    "           AVG(recovered),\n",
    "           MAX(recovered)\n",
    "    FROM covid19_raw.raw_github_csse_daily \n",
    "\"\"\")"
   ]
  },
  {
   "cell_type": "code",
   "execution_count": 80,
   "id": "4768d2ea-cc30-473c-91db-615dc3ec765e",
   "metadata": {},
   "outputs": [
    {
     "data": {
      "text/plain": [
       "┌──────────┐\n",
       "│ count(1) │\n",
       "│  int64   │\n",
       "├──────────┤\n",
       "│        3 │\n",
       "└──────────┘"
      ]
     },
     "execution_count": 80,
     "metadata": {},
     "output_type": "execute_result"
    }
   ],
   "source": [
    "con.sql(\"\"\"\n",
    "    SELECT COUNT(1)\n",
    "    FROM covid19_raw.raw_github_csse_daily \n",
    "    WHERE recovered < 0\n",
    "\"\"\")"
   ]
  },
  {
   "cell_type": "code",
   "execution_count": 81,
   "id": "f0267805-884e-430c-b50b-ec06b7f26bd0",
   "metadata": {},
   "outputs": [
    {
     "data": {
      "text/plain": [
       "┌─────────────┬────────────────────┬─────────────┐\n",
       "│ min(active) │    avg(active)     │ max(active) │\n",
       "│    int64    │       double       │    int64    │\n",
       "├─────────────┼────────────────────┼─────────────┤\n",
       "│           0 │ 7469.3125108649165 │     5658278 │\n",
       "└─────────────┴────────────────────┴─────────────┘"
      ]
     },
     "execution_count": 81,
     "metadata": {},
     "output_type": "execute_result"
    }
   ],
   "source": [
    "con.sql(\"\"\"\n",
    "    SELECT MIN(active),\n",
    "           AVG(active),\n",
    "           MAX(active)\n",
    "    FROM covid19_raw.raw_github_csse_daily \n",
    "\"\"\")"
   ]
  },
  {
   "cell_type": "code",
   "execution_count": 86,
   "id": "ca788b7b-057a-4290-90c8-4be5ca5bbe98",
   "metadata": {},
   "outputs": [
    {
     "data": {
      "text/plain": [
       "┌────────────────────┬────────────────────┬────────────────────┬───────────────────────┐\n",
       "│ min(incident_rate) │ avg(incident_rate) │ max(incident_rate) │ median(incident_rate) │\n",
       "│       double       │       double       │       double       │        double         │\n",
       "├────────────────────┼────────────────────┼────────────────────┼───────────────────────┤\n",
       "│                0.0 │  16507.17332360432 │   2164021.75951979 │    14572.143730514888 │\n",
       "└────────────────────┴────────────────────┴────────────────────┴───────────────────────┘"
      ]
     },
     "execution_count": 86,
     "metadata": {},
     "output_type": "execute_result"
    }
   ],
   "source": [
    "con.sql(\"\"\"\n",
    "    SELECT MIN(incident_rate),\n",
    "           AVG(incident_rate),\n",
    "           MAX(incident_rate),\n",
    "           MEDIAN(incident_rate)\n",
    "    FROM covid19_raw.raw_github_csse_daily \n",
    "\"\"\")\n"
   ]
  },
  {
   "cell_type": "code",
   "execution_count": 85,
   "id": "5e10a46a-61c5-4ad8-b7fa-4424f96243a1",
   "metadata": {},
   "outputs": [
    {
     "data": {
      "text/plain": [
       "┌──────────────────────────┬──────────────────────────┬──────────────────────────┬─────────────────────────────┐\n",
       "│ min(case_fatality_ratio) │ avg(case_fatality_ratio) │ max(case_fatality_ratio) │ median(case_fatality_ratio) │\n",
       "│          double          │          double          │          double          │           double            │\n",
       "├──────────────────────────┼──────────────────────────┼──────────────────────────┼─────────────────────────────┤\n",
       "│                      0.0 │        2.705073356417832 │                  29600.0 │          1.4961915125136018 │\n",
       "└──────────────────────────┴──────────────────────────┴──────────────────────────┴─────────────────────────────┘"
      ]
     },
     "execution_count": 85,
     "metadata": {},
     "output_type": "execute_result"
    }
   ],
   "source": [
    "con.sql(\"\"\"\n",
    "    SELECT MIN(case_fatality_ratio),\n",
    "           AVG(case_fatality_ratio),\n",
    "           MAX(case_fatality_ratio),\n",
    "           MEDIAN(case_fatality_ratio)\n",
    "    FROM covid19_raw.raw_github_csse_daily \n",
    "\"\"\")\n"
   ]
  },
  {
   "cell_type": "code",
   "execution_count": 92,
   "id": "9229767f-31b9-428c-9678-44b1ff59747c",
   "metadata": {},
   "outputs": [
    {
     "data": {
      "text/plain": [
       "┌──────────────────────────────────┬─────────────────────┐\n",
       "│             file_md5             │      load_date      │\n",
       "│             varchar              │      timestamp      │\n",
       "├──────────────────────────────────┼─────────────────────┤\n",
       "│ 1de450a5c1a871be31451bd262f3fcb6 │ 2021-10-31 00:00:00 │\n",
       "│ a297ffde7bf15463a5799b5cdf5266c7 │ 2021-10-30 00:00:00 │\n",
       "│ c1a3b944c9417545a6f7de1c90d12059 │ 2021-10-29 00:00:00 │\n",
       "│ 0f54805f0d28b0f391a4ac20d34953bd │ 2021-09-22 00:00:00 │\n",
       "│ 0f54805f0d28b0f391a4ac20d34953bd │ 2021-09-22 00:00:00 │\n",
       "│ 0f54805f0d28b0f391a4ac20d34953bd │ 2021-09-22 00:00:00 │\n",
       "│ 0f54805f0d28b0f391a4ac20d34953bd │ 2021-09-22 00:00:00 │\n",
       "│ 0f54805f0d28b0f391a4ac20d34953bd │ 2021-09-22 00:00:00 │\n",
       "│ 0f54805f0d28b0f391a4ac20d34953bd │ 2021-09-22 00:00:00 │\n",
       "│ 0f54805f0d28b0f391a4ac20d34953bd │ 2021-09-22 00:00:00 │\n",
       "│ 0f54805f0d28b0f391a4ac20d34953bd │ 2021-09-22 00:00:00 │\n",
       "│ 0f54805f0d28b0f391a4ac20d34953bd │ 2021-09-22 00:00:00 │\n",
       "│ 0f54805f0d28b0f391a4ac20d34953bd │ 2021-09-22 00:00:00 │\n",
       "│ 0f54805f0d28b0f391a4ac20d34953bd │ 2021-09-22 00:00:00 │\n",
       "│ 0f54805f0d28b0f391a4ac20d34953bd │ 2021-09-22 00:00:00 │\n",
       "│ 0f54805f0d28b0f391a4ac20d34953bd │ 2021-09-22 00:00:00 │\n",
       "│ 0f54805f0d28b0f391a4ac20d34953bd │ 2021-09-22 00:00:00 │\n",
       "│ 0f54805f0d28b0f391a4ac20d34953bd │ 2021-09-22 00:00:00 │\n",
       "│ 0f54805f0d28b0f391a4ac20d34953bd │ 2021-09-22 00:00:00 │\n",
       "│ 52fb1f8bd887f8937664cd2fa3bdce83 │ 2021-09-21 00:00:00 │\n",
       "├──────────────────────────────────┴─────────────────────┤\n",
       "│ 20 rows                                      2 columns │\n",
       "└────────────────────────────────────────────────────────┘"
      ]
     },
     "execution_count": 92,
     "metadata": {},
     "output_type": "execute_result"
    }
   ],
   "source": [
    "con.sql(\"SELECT file_md5, load_date FROM delta_scan('s3://covid-data-pipeline/covid19/github_csse_daily') WHERE active > 0 ORDER BY load_date DESC LIMIT 20\")\n"
   ]
  },
  {
   "cell_type": "code",
   "execution_count": null,
   "id": "93d9ec56-220c-40b4-89a3-7299c82f1b75",
   "metadata": {},
   "outputs": [],
   "source": [
    "\n",
    "\n",
    "con.sql(\"SELECT * FROM covid19_raw.raw_github_csse_daily LIMIT 10\")"
   ]
  },
  {
   "cell_type": "code",
   "execution_count": 129,
   "id": "bcaf8c95-87e8-4e58-864b-1684bcd8d525",
   "metadata": {},
   "outputs": [
    {
     "data": {
      "text/plain": [
       "┌──────────────────────────────────┬─────────────────┬────────────────┬────────────────┬────────────┬───────────┬──────────┬───────────┬────────┬───────────┬────────┬────────────────────┬────────────────┬─────────────────────┬─────────────────────┬─────────────────────┬──────────────────────────────────┐\n",
       "│                id                │  combined_key   │ province_state │ country_region │ population │ confirmed │ latitude │ longitude │ deaths │ recovered │ active │   incident_rate    │ incidence_rate │ case_fatality_ratio │     last_update     │      load_date      │             file_md5             │\n",
       "│             varchar              │     varchar     │    varchar     │    varchar     │   double   │  double   │  double  │  double   │ double │  double   │ int64  │       double       │     double     │       double        │       varchar       │      timestamp      │             varchar              │\n",
       "├──────────────────────────────────┼─────────────────┼────────────────┼────────────────┼────────────┼───────────┼──────────┼───────────┼────────┼───────────┼────────┼────────────────────┼────────────────┼─────────────────────┼─────────────────────┼─────────────────────┼──────────────────────────────────┤\n",
       "│ f0207e889ee55c0a5d7a47595dd40169 │ Alberta, Canada │ Alberta        │ Canada         │  4413146.0 │  627184.0 │     NULL │      NULL │ 5486.0 │      NULL │   NULL │ 14211.721071543974 │           NULL │  0.8747034363121509 │ 2023-02-02 04:20:54 │ 2023-02-01 00:00:00 │ 79067abac8a429697bb0135d5f6ad4f9 │\n",
       "│ 659c8091216290fb20ac111cbabb25b6 │ Alberta, Canada │ Alberta        │ Canada         │  4413146.0 │  626594.0 │     NULL │      NULL │ 5465.0 │      NULL │   NULL │ 14198.351924001608 │           NULL │  0.8721756033412386 │ 2023-02-01 04:20:54 │ 2023-01-31 00:00:00 │ ae80f58675ca3e5fa77ab00037add707 │\n",
       "│ 3eee47e4b71438b46ae338538ad61ee6 │ Alberta, Canada │ Alberta        │ Canada         │  4413146.0 │  626594.0 │     NULL │      NULL │ 5465.0 │      NULL │   NULL │ 14198.351924001608 │           NULL │  0.8721756033412386 │ 2023-01-31 04:20:32 │ 2023-01-30 00:00:00 │ 884fbd0f32d92b1040d05ab6c018efb6 │\n",
       "│ 47cb3f8ad197d20e382962972376ff77 │ Alberta, Canada │ Alberta        │ Canada         │  4413146.0 │  626594.0 │     NULL │      NULL │ 5468.0 │      NULL │   NULL │ 14198.351924001608 │           NULL │  0.8726543822634752 │ 2023-01-30 04:20:59 │ 2023-01-29 00:00:00 │ 23746d5148f2c569a84e61a4cc0d75c1 │\n",
       "│ a5b52bcc7a942efe696e0a3448171d7c │ Alberta, Canada │ Alberta        │ Canada         │  4413146.0 │  626594.0 │     NULL │      NULL │ 5468.0 │      NULL │   NULL │ 14198.351924001608 │           NULL │  0.8726543822634752 │ 2023-01-29 04:21:02 │ 2023-01-28 00:00:00 │ cf80c57b49a5f9668d4a1a4e11f183f5 │\n",
       "│ e4d4838f508bd0e2c8673a9cf0b3b11b │ Alberta, Canada │ Alberta        │ Canada         │  4413146.0 │  626594.0 │     NULL │      NULL │ 5468.0 │      NULL │   NULL │ 14198.351924001608 │           NULL │  0.8726543822634752 │ 2023-01-28 04:21:00 │ 2023-01-27 00:00:00 │ 39083138d52668c47f36800edcdb7424 │\n",
       "│ 9a62c6ad1b50b73f2b981b49d670526f │ Alberta, Canada │ Alberta        │ Canada         │  4413146.0 │  626594.0 │     NULL │      NULL │ 5468.0 │      NULL │   NULL │ 14198.351924001608 │           NULL │  0.8726543822634752 │ 2023-01-27 04:20:58 │ 2023-01-26 00:00:00 │ cc2d86ed470ee9f59af00b8a434f3812 │\n",
       "│ 41cf4adf9946a4f723dabd90f78ad59d │ Alberta, Canada │ Alberta        │ Canada         │  4413146.0 │  626594.0 │     NULL │      NULL │ 5468.0 │      NULL │   NULL │ 14198.351924001608 │           NULL │  0.8726543822634752 │ 2023-01-26 04:20:59 │ 2023-01-25 00:00:00 │ 29cbae8cafa189e8822512a70848335e │\n",
       "│ 89550c580e936889498116a8f6ff4719 │ Alberta, Canada │ Alberta        │ Canada         │  4413146.0 │  625948.0 │     NULL │      NULL │ 5470.0 │      NULL │   NULL │ 14183.713840421324 │           NULL │  0.8738745071475585 │ 2023-01-25 04:20:57 │ 2023-01-24 00:00:00 │ c95b52beccb74213a3944a8b6655b1a0 │\n",
       "│ 318d248819f29aa1c1ea36ca63a2e27a │ Alberta, Canada │ Alberta        │ Canada         │  4413146.0 │  625948.0 │     NULL │      NULL │ 5470.0 │      NULL │   NULL │ 14183.713840421324 │           NULL │  0.8738745071475585 │ 2023-01-24 04:21:01 │ 2023-01-23 00:00:00 │ 18143a355459245d1db3f2597214f997 │\n",
       "│                ·                 │        ·        │    ·           │   ·            │      ·     │      ·    │       ·  │        ·  │    ·   │        ·  │     ·  │          ·         │             ·  │           ·         │          ·          │          ·          │                ·                 │\n",
       "│                ·                 │        ·        │    ·           │   ·            │      ·     │      ·    │       ·  │        ·  │    ·   │        ·  │     ·  │          ·         │             ·  │           ·         │          ·          │          ·          │                ·                 │\n",
       "│                ·                 │        ·        │    ·           │   ·            │      ·     │      ·    │       ·  │        ·  │    ·   │        ·  │     ·  │          ·         │             ·  │           ·         │          ·          │          ·          │                ·                 │\n",
       "│ 3be9151177c5833d1fa36b84a3cbe4f5 │ Alberta, Canada │ Alberta        │ Canada         │  4413146.0 │  622428.0 │     NULL │      NULL │ 5351.0 │      NULL │   NULL │ 14103.952146609245 │           NULL │  0.8596978285038591 │ 2022-12-24 04:21:02 │ 2022-12-23 00:00:00 │ 4fb56dadc5082ff981dd72b10415f060 │\n",
       "│ c4684577b1b1e4e4f367dd43370cb933 │ Alberta, Canada │ Alberta        │ Canada         │  4413146.0 │  622428.0 │     NULL │      NULL │ 5351.0 │      NULL │   NULL │ 14103.952146609245 │           NULL │  0.8596978285038591 │ 2022-12-23 04:21:04 │ 2022-12-22 00:00:00 │ 828fda58c897d7a2bf09b8f45eeb75a0 │\n",
       "│ 482b45f0010e4cc3a227a1263f543f0d │ Alberta, Canada │ Alberta        │ Canada         │  4413146.0 │  622428.0 │     NULL │      NULL │ 5351.0 │      NULL │   NULL │ 14103.952146609245 │           NULL │  0.8596978285038591 │ 2022-12-22 04:20:56 │ 2022-12-21 00:00:00 │ c652c6f0d00a9bb03acf9f1b12e448cb │\n",
       "│ 6cc7e5ec97c1b32d51f4439178dee10e │ Alberta, Canada │ Alberta        │ Canada         │  4413146.0 │  621512.0 │     NULL │      NULL │ 5308.0 │      NULL │   NULL │  14083.19597856042 │           NULL │  0.8540462613754843 │ 2022-12-21 04:21:03 │ 2022-12-20 00:00:00 │ e364030da99aacca50d1761791c12b3f │\n",
       "│ f436110882802490a882fbaa8a23f1f6 │ Alberta, Canada │ Alberta        │ Canada         │  4413146.0 │  621512.0 │     NULL │      NULL │ 5308.0 │      NULL │   NULL │  14083.19597856042 │           NULL │  0.8540462613754843 │ 2022-12-20 04:21:04 │ 2022-12-19 00:00:00 │ 00e2130f39ba8bad7ca1dba49a60c304 │\n",
       "│ ed727fd8df04a7989aa4628cc80df6cf │ Alberta, Canada │ Alberta        │ Canada         │  4413146.0 │  621512.0 │     NULL │      NULL │ 5308.0 │      NULL │   NULL │  14083.19597856042 │           NULL │  0.8540462613754843 │ 2022-12-19 04:21:03 │ 2022-12-18 00:00:00 │ 649f5b2c48fb2997ff56225f9dc73c8a │\n",
       "│ acba39bcb66dc177ae93086eee5748eb │ Alberta, Canada │ Alberta        │ Canada         │  4413146.0 │  621512.0 │     NULL │      NULL │ 5308.0 │      NULL │   NULL │  14083.19597856042 │           NULL │  0.8540462613754843 │ 2022-12-18 04:21:03 │ 2022-12-17 00:00:00 │ 2991ec3970b0ba1a35c73136ccde88bc │\n",
       "│ e679ae43662c0b366c33f9e7c3135bd5 │ Alberta, Canada │ Alberta        │ Canada         │  4413146.0 │  621512.0 │     NULL │      NULL │ 5308.0 │      NULL │   NULL │  14083.19597856042 │           NULL │  0.8540462613754843 │ 2022-12-17 04:21:04 │ 2022-12-16 00:00:00 │ 542936a098077a6f5570248dd6669491 │\n",
       "│ aae828126b221a59530c05895bfdf77e │ Alberta, Canada │ Alberta        │ Canada         │  4413146.0 │  621512.0 │     NULL │      NULL │ 5308.0 │      NULL │   NULL │  14083.19597856042 │           NULL │  0.8540462613754843 │ 2022-12-16 04:21:01 │ 2022-12-15 00:00:00 │ 92af650811d10955308c253f873d9c6b │\n",
       "│ c45445e7891b7121517aebd5249882c7 │ Alberta, Canada │ Alberta        │ Canada         │  4413146.0 │  621512.0 │     NULL │      NULL │ 5308.0 │      NULL │   NULL │  14083.19597856042 │           NULL │  0.8540462613754843 │ 2022-12-15 04:20:58 │ 2022-12-14 00:00:00 │ d0568243a02b0567055b9b7592ef203c │\n",
       "├──────────────────────────────────┴─────────────────┴────────────────┴────────────────┴────────────┴───────────┴──────────┴───────────┴────────┴───────────┴────────┴────────────────────┴────────────────┴─────────────────────┴─────────────────────┴─────────────────────┴──────────────────────────────────┤\n",
       "│ 50 rows (20 shown)                                                                                                                                                                                                                                                                                 17 columns │\n",
       "└───────────────────────────────────────────────────────────────────────────────────────────────────────────────────────────────────────────────────────────────────────────────────────────────────────────────────────────────────────────────────────────────────────────────────────────────────────────────┘"
      ]
     },
     "execution_count": 129,
     "metadata": {},
     "output_type": "execute_result"
    }
   ],
   "source": [
    "con.sql(\"\"\"\n",
    "SELECT id,\n",
    "       combined_key,\n",
    "       province_state,\n",
    "       country_region,\n",
    "       confirmed * 100000 / coalesce(incident_rate, incidence_rate) AS population,\n",
    "       confirmed,\n",
    "       latitude,\n",
    "       longitude,\n",
    "       deaths,\n",
    "       recovered,\n",
    "       active,\n",
    "       incident_rate,\n",
    "       incidence_rate,\n",
    "       case_fatality_ratio,\n",
    "       last_update,\n",
    "       load_date, \n",
    "       file_md5\n",
    "FROM delta_scan('s3://covid-data-pipeline/covid19/github_csse_daily') \n",
    "WHERE combined_key = 'Alberta, Canada'\n",
    "ORDER BY load_date DESC \n",
    "LIMIT 50\n",
    "\"\"\")\n"
   ]
  },
  {
   "cell_type": "code",
   "execution_count": 102,
   "id": "0d1cc8ba-c6ab-4244-9bd0-05ce686f39a0",
   "metadata": {},
   "outputs": [
    {
     "data": {
      "text/plain": [
       "200.0"
      ]
     },
     "execution_count": 102,
     "metadata": {},
     "output_type": "execute_result"
    }
   ],
   "source": [
    "(1000/500000) * 100000"
   ]
  },
  {
   "cell_type": "code",
   "execution_count": 106,
   "id": "90d4101b-a49f-43c2-af1b-03923eec3e32",
   "metadata": {},
   "outputs": [
    {
     "data": {
      "text/plain": [
       "2.0"
      ]
     },
     "execution_count": 106,
     "metadata": {},
     "output_type": "execute_result"
    }
   ],
   "source": [
    "200/100000 * 500000"
   ]
  }
 ],
 "metadata": {
  "kernelspec": {
   "display_name": "Python 3 (ipykernel)",
   "language": "python",
   "name": "python3"
  },
  "language_info": {
   "codemirror_mode": {
    "name": "ipython",
    "version": 3
   },
   "file_extension": ".py",
   "mimetype": "text/x-python",
   "name": "python",
   "nbconvert_exporter": "python",
   "pygments_lexer": "ipython3",
   "version": "3.12.10"
  }
 },
 "nbformat": 4,
 "nbformat_minor": 5
}
